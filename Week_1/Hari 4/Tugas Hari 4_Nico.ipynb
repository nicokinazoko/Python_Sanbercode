{
 "cells": [
  {
   "cell_type": "markdown",
   "metadata": {
    "colab_type": "text",
    "id": "1O3NGQSKzf_A"
   },
   "source": [
    "# List"
   ]
  },
  {
   "cell_type": "markdown",
   "metadata": {
    "colab_type": "text",
    "id": "m2VWq6g9szIv"
   },
   "source": [
    "<h2>Soal 1: Sifat List</h2>\n",
    "\n",
    "Jawab Pertanyaan di bawah ini:\n",
    "\n",
    "Jenis data apa saja yang bisa ada di dalam List?"
   ]
  },
  {
   "cell_type": "markdown",
   "metadata": {
    "colab_type": "text",
    "id": "oUTuv3Me3izt"
   },
   "source": []
  },
  {
   "cell_type": "markdown",
   "metadata": {
    "colab_type": "text",
    "id": "XD1fT351szI2"
   },
   "source": [
    "<h2>Soal 2: Akses List</h2>\n",
    "\n",
    "Lengkapi kode untuk menghasilkan suatu output yang di harapkan"
   ]
  },
  {
   "cell_type": "code",
   "execution_count": 3,
   "metadata": {
    "colab": {},
    "colab_type": "code",
    "id": "qXKteY88szI5"
   },
   "outputs": [
    {
     "name": "stdout",
     "output_type": "stream",
     "text": [
      "['13b', 'aa1', 1.32, 22.1]\n"
     ]
    }
   ],
   "source": [
    "a = ['1', '13b', 'aa1', 1.32, 22.1, 2.34]\n",
    "# slicing list\n",
    "print(a[1:5])"
   ]
  },
  {
   "cell_type": "markdown",
   "metadata": {
    "colab_type": "text",
    "id": "4Qp2wjmOszJJ"
   },
   "source": [
    "Expected Output :\n",
    "\n",
    "[ '13b', 'aa1', 1.32, 22.1 ]"
   ]
  },
  {
   "cell_type": "markdown",
   "metadata": {
    "colab_type": "text",
    "id": "qf7YmOZzszJL"
   },
   "source": [
    "<h2>Soal 3: Nested List</h2>\n",
    "\n",
    "Lengkapi kode untuk menghasilkan suatu output yang di harapkan"
   ]
  },
  {
   "cell_type": "code",
   "execution_count": 10,
   "metadata": {
    "colab": {},
    "colab_type": "code",
    "id": "JCac4gPfszJO"
   },
   "outputs": [
    {
     "name": "stdout",
     "output_type": "stream",
     "text": [
      "[[1.32, 22.1, 2.34], ['1', '13b', 'aa1'], [3, 40, 100]]\n"
     ]
    }
   ],
   "source": [
    "a = [1.32, 22.1, 2.34]\n",
    "b = ['1', '13b', 'aa1']\n",
    "c = [3, 40, 100]\n",
    "# combine list\n",
    "combine = [a,b,c]\n",
    "print(combine)"
   ]
  },
  {
   "cell_type": "markdown",
   "metadata": {
    "colab_type": "text",
    "id": "mNzKeR8hszJk"
   },
   "source": [
    "Expected Output :\n",
    "\n",
    "[ [1.32, 22.1, 2.34], [3, 40, 100], ['1', '13b', 'aa1'] ]"
   ]
  },
  {
   "cell_type": "markdown",
   "metadata": {
    "colab_type": "text",
    "id": "zKS3e_kTszJm"
   },
   "source": [
    "<h2>Soal 4: Akses Nested List</h2>\n",
    "\n",
    "Lengkapi kode untuk menghasilkan suatu output yang di harapkan"
   ]
  },
  {
   "cell_type": "code",
   "execution_count": 12,
   "metadata": {
    "colab": {},
    "colab_type": "code",
    "id": "IhFh_WCzszJo"
   },
   "outputs": [
    {
     "name": "stdout",
     "output_type": "stream",
     "text": [
      "[0, 6]\n"
     ]
    }
   ],
   "source": [
    "a = [\n",
    "    [5, 9, 8],\n",
    "    [0, 0, 6]\n",
    "    ]\n",
    "# subsetting list\n",
    "subset = [a[1][0],a[1][2]]\n",
    "print(subset)"
   ]
  },
  {
   "cell_type": "markdown",
   "metadata": {
    "colab_type": "text",
    "id": "mk5EMa6pszJ2"
   },
   "source": [
    "Expected Output :\n",
    "\n",
    "\n",
    "[0, 6]"
   ]
  },
  {
   "cell_type": "markdown",
   "metadata": {
    "colab_type": "text",
    "id": "sTVLtrqCszJ4"
   },
   "source": [
    "<h2>Soal 5: Built in Function List</h2>\n",
    "\n",
    "Lengkapi kode untuk menghasilkan suatu output yang di harapkan"
   ]
  },
  {
   "cell_type": "code",
   "execution_count": 17,
   "metadata": {
    "colab": {},
    "colab_type": "code",
    "id": "oCz3O7gAszJ6"
   },
   "outputs": [
    {
     "name": "stdout",
     "output_type": "stream",
     "text": [
      "[0, 2, 4, 5, 9, 10]\n",
      "10\n"
     ]
    }
   ],
   "source": [
    "p = [0, 5, 2, 10, 4, 9]\n",
    "# ordered list\n",
    "print(sorted(p, reverse=False))\n",
    "# get max value of list\n",
    "print(max(p))"
   ]
  },
  {
   "cell_type": "markdown",
   "metadata": {
    "colab_type": "text",
    "id": "Nejk71aWszKE"
   },
   "source": [
    "Expected Output :\n",
    "\n",
    "[0, 2, 4, 5, 9, 10]\n",
    "\n",
    "10"
   ]
  },
  {
   "cell_type": "markdown",
   "metadata": {
    "colab_type": "text",
    "id": "OEU53cA_szKG"
   },
   "source": [
    "<h2>Soal 6: List Operation</h2>\n",
    "\n",
    "Lengkapi kode untuk menghasilkan suatu output yang di harapkan"
   ]
  },
  {
   "cell_type": "code",
   "execution_count": 20,
   "metadata": {
    "colab": {},
    "colab_type": "code",
    "id": "N-dxC1qYszKJ"
   },
   "outputs": [
    {
     "name": "stdout",
     "output_type": "stream",
     "text": [
      "[5, 1, 3, 1, 3, 5]\n"
     ]
    }
   ],
   "source": [
    "a = [1, 3, 5]\n",
    "b = [5, 1, 3]\n",
    "# combine list\n",
    "combine = b + a\n",
    "print(combine)"
   ]
  },
  {
   "cell_type": "markdown",
   "metadata": {
    "colab_type": "text",
    "id": "g0xy9HZrszKV"
   },
   "source": [
    "Expected Output :\n",
    "\n",
    "[5, 1, 3, 1, 3, 5]"
   ]
  },
  {
   "cell_type": "markdown",
   "metadata": {
    "colab_type": "text",
    "id": "cggENDN4szKX"
   },
   "source": [
    "<h2>Soal 7: List Manipulation</h2>\n",
    "\n",
    "Lengkapi kode untuk menghasilkan suatu output yang di harapkan"
   ]
  },
  {
   "cell_type": "code",
   "execution_count": 21,
   "metadata": {
    "colab": {},
    "colab_type": "code",
    "id": "GOZQAPg9szKa"
   },
   "outputs": [
    {
     "name": "stdout",
     "output_type": "stream",
     "text": [
      "[[5, 9, 10], [11, 0, 6]]\n"
     ]
    }
   ],
   "source": [
    "a = [\n",
    "    [5, 9, 8],\n",
    "    [0, 0, 6]\n",
    "    ]\n",
    "# change list value\n",
    "a[0][2] = 10\n",
    "# change list value\n",
    "a[1][0] = 11\n",
    "print(a)"
   ]
  },
  {
   "cell_type": "markdown",
   "metadata": {
    "colab_type": "text",
    "id": "iYHFRJW7szKl"
   },
   "source": [
    "Expected Output :\n",
    "\n",
    "[ [5, 9, 10], [11, 0, 6] ]"
   ]
  },
  {
   "cell_type": "markdown",
   "metadata": {
    "colab_type": "text",
    "id": "dSTDqY9iszKn"
   },
   "source": [
    "<h2>Soal 8: Delete Element List</h2>\n",
    "\n",
    "Lengkapi kode untuk menghasilkan suatu output yang di harapkan"
   ]
  },
  {
   "cell_type": "code",
   "execution_count": 27,
   "metadata": {
    "colab": {},
    "colab_type": "code",
    "id": "hTQNLWiUszKq"
   },
   "outputs": [
    {
     "name": "stdout",
     "output_type": "stream",
     "text": [
      "['hallway', 11.25, 'kitchen', 18.0, 'chill zone', 20.0, 'bedroom', 10.75, 'poolhouse', 24.5, 'garage', 15.45]\n"
     ]
    }
   ],
   "source": [
    "areas = [\"hallway\", 11.25, \"kitchen\", 18.0,\n",
    "        \"chill zone\", 20.0, \"bedroom\", 10.75,\n",
    "         \"bathroom\", 10.50, \"poolhouse\", 24.5,\n",
    "         \"garage\", 15.45]\n",
    "\n",
    "# Hilangkan elemen yang bernilai \"bathroom\" dan 10.50 dalam satu statement code\n",
    "del areas[8:10]\n",
    "print(areas)"
   ]
  },
  {
   "cell_type": "markdown",
   "metadata": {
    "colab_type": "text",
    "id": "ZeF61jc_szK1"
   },
   "source": [
    "Expected Output:\n",
    "\n",
    "['hallway',\n",
    " 11.25,\n",
    " 'kitchen',\n",
    " 18.0,\n",
    " 'chill zone',\n",
    " 20.0,\n",
    " 'bedroom',\n",
    " 10.75,\n",
    " 'poolhouse',\n",
    " 24.5,\n",
    " 'garage',\n",
    " 15.45]\n",
    "\n"
   ]
  },
  {
   "cell_type": "markdown",
   "metadata": {
    "colab_type": "text",
    "id": "onKmJ3XqY5FN"
   },
   "source": [
    "## Soal 9: List Comprehension\n",
    "\n",
    "Gunakan metode **list comprehension** untuk mencari anggota dari S yang habis di bagi 2, kemudian assign hasilnya dalam bentuk list ke dalam variabel T."
   ]
  },
  {
   "cell_type": "code",
   "execution_count": 28,
   "metadata": {
    "colab": {},
    "colab_type": "code",
    "id": "xs3OWJP_Z5rb"
   },
   "outputs": [
    {
     "name": "stdout",
     "output_type": "stream",
     "text": [
      "[0, 4, 16, 36, 64]\n"
     ]
    }
   ],
   "source": [
    "S = [0, 1, 4, 9, 16, 25, 36, 49, 64, 81]\n",
    "\n",
    "T = [x for x in S if x %2 == 0]\n",
    "\n",
    "print(T)"
   ]
  },
  {
   "cell_type": "markdown",
   "metadata": {
    "colab_type": "text",
    "id": "Jjn-28CDaShb"
   },
   "source": [
    "Expected Output:\n",
    "\n",
    "[0, 4, 16, 36, 64]"
   ]
  },
  {
   "cell_type": "markdown",
   "metadata": {
    "colab_type": "text",
    "id": "gdBwjXz8zoMi"
   },
   "source": [
    "# Dictionary"
   ]
  },
  {
   "cell_type": "markdown",
   "metadata": {
    "colab_type": "text",
    "id": "fyoYEJKw6qoo"
   },
   "source": [
    "<h2>Soal 10: Akses Dictionary</h2>\n",
    "\n",
    "Lengkapi kode untuk menghasilkan suatu output yang di harapkan"
   ]
  },
  {
   "cell_type": "code",
   "execution_count": 0,
   "metadata": {
    "colab": {},
    "colab_type": "code",
    "id": "rs7ByDTw6qop"
   },
   "outputs": [],
   "source": [
    "europe = {'spain':'madrid', 'france':'paris', 'germany':'berlin', 'norway':'oslo' }\n",
    "\n",
    "# print semua key yang ada di objek europe\n",
    ".....\n",
    "# print nilai dari key franche\n",
    "....."
   ]
  },
  {
   "cell_type": "markdown",
   "metadata": {
    "colab_type": "text",
    "id": "LF8QRq8E6qov"
   },
   "source": [
    "Expected Output:\n",
    "\n",
    "dict_keys(['spain', 'france', 'germany', 'norway'])\n",
    "\n",
    "paris"
   ]
  },
  {
   "cell_type": "markdown",
   "metadata": {
    "colab_type": "text",
    "id": "qjMKbE9D6qow"
   },
   "source": [
    "<h2>Soal 11: Menambahkan key-value baru ke Dictionary</h2>\n",
    "\n",
    "Lengkapi kode untuk menghasilkan suatu output yang di harapkan"
   ]
  },
  {
   "cell_type": "code",
   "execution_count": 0,
   "metadata": {
    "colab": {},
    "colab_type": "code",
    "id": "rU7Z5dzC6qox"
   },
   "outputs": [],
   "source": [
    "europe = {'spain':'madrid', 'france':'paris', 'germany':'berlin', 'norway':'oslo' }\n",
    "\n",
    "# tambahkan key itali ke objek dictionary dengan value roma\n",
    "..........\n",
    "\n",
    "# cek apakah itali ada di dalam objek dictionary\n",
    "print(........)"
   ]
  },
  {
   "cell_type": "markdown",
   "metadata": {
    "colab_type": "text",
    "id": "ur84PUyz6qo1"
   },
   "source": [
    "Expected Output:\n",
    "    \n",
    "True"
   ]
  },
  {
   "cell_type": "markdown",
   "metadata": {
    "colab_type": "text",
    "id": "bgilSLKl6qo2"
   },
   "source": [
    "<h2>Soal 12: Update dan Remove Dictinary</h2>\n",
    "    \n",
    "Lengkapi kode untuk menghasilkan suatu output yang di harapkan"
   ]
  },
  {
   "cell_type": "code",
   "execution_count": 0,
   "metadata": {
    "colab": {},
    "colab_type": "code",
    "id": "QO9EowXH6qo2"
   },
   "outputs": [],
   "source": [
    "europe = {'spain':'madrid', 'france':'paris', 'germany':'bonn',\n",
    "          'norway':'oslo', 'italy':'rome', 'poland':'warsaw',\n",
    "          'australia':'vienna' }\n",
    "\n",
    "# update nilai ibukota german ke berlin\n",
    ".........\n",
    "\n",
    "# remove australia dari europa\n",
    "........\n",
    "\n",
    "print(europe)"
   ]
  },
  {
   "cell_type": "markdown",
   "metadata": {
    "colab_type": "text",
    "id": "VDpHuoXS6qo6"
   },
   "source": [
    "Expected Output:\n",
    "\n",
    "{'spain': 'madrid', 'france': 'paris', 'germany': 'berlin', 'norway': 'oslo', 'italy': 'rome', 'poland': 'warsaw'}"
   ]
  },
  {
   "cell_type": "markdown",
   "metadata": {
    "colab_type": "text",
    "id": "FNWyId1S6qo7"
   },
   "source": [
    "<h2>Soal 13: Nested Dictionary</h2>\n",
    "    \n",
    "Lengkapi kode untuk menghasilkan suatu output yang di harapkan"
   ]
  },
  {
   "cell_type": "code",
   "execution_count": 0,
   "metadata": {
    "colab": {},
    "colab_type": "code",
    "id": "OAkJDiGd6qo7"
   },
   "outputs": [],
   "source": [
    "country = { \n",
    "           'spain': { 'capital':'madrid', 'population':46.77 },\n",
    "           'france': { 'capital':'paris', 'population':66.03 },\n",
    "           'germany': { 'capital':'berlin', 'population':80.62 },\n",
    "           'norway': { 'capital':'oslo', 'population':5.084 } \n",
    "         }\n",
    "\n",
    "# berapa populasi dari kota german?\n",
    "print(......)\n",
    "\n",
    "# update data baru, yaitu negara indonesia dengan capital jakarta dan poulasi 250\n",
    "\n",
    "\n",
    "print(country)"
   ]
  },
  {
   "cell_type": "markdown",
   "metadata": {
    "colab_type": "text",
    "id": "fKT0REFD6qo_"
   },
   "source": [
    "Expected Output:\n",
    "\n",
    "80.62\n",
    "\n",
    "{'spain': {'capital': 'madrid', 'population': 46.77}, 'france': {'capital': 'paris', 'population': 66.03}, 'germany': {'capital': 'berlin', 'population': 80.62}, 'norway': {'capital': 'oslo', 'population': 5.084}, 'indonesia': {'capital': 'jakarta', 'population': 250}}"
   ]
  },
  {
   "cell_type": "markdown",
   "metadata": {
    "colab_type": "text",
    "id": "xefUN_T56qpA"
   },
   "source": [
    "<h2>Soal 14: Loop Dictionary</h2>\n",
    "    \n",
    "Lengkapi kode untuk menghasilkan suatu output yang di harapkan"
   ]
  },
  {
   "cell_type": "code",
   "execution_count": 0,
   "metadata": {
    "colab": {},
    "colab_type": "code",
    "id": "SkYQ0sD76qpA"
   },
   "outputs": [],
   "source": [
    "country = { \n",
    "           'spain': { 'capital':'madrid', 'population':46.77 },\n",
    "           'france': { 'capital':'paris', 'population':66.03 },\n",
    "           'germany': { 'capital':'berlin', 'population':80.62 },\n",
    "           'norway': { 'capital':'oslo', 'population':5.084 },\n",
    "           'indonesia' : {'capital':'jakarta', 'population':250}\n",
    "         }\n",
    "\n",
    "for ....... in .......:\n",
    "    print('Ibukota '+.....+' adalah '+......)"
   ]
  },
  {
   "cell_type": "markdown",
   "metadata": {
    "colab_type": "text",
    "id": "YjX6xAtj6qpE"
   },
   "source": [
    "Expected Output:\n",
    "    \n",
    "Ibukota spain adalah madrid\n",
    "\n",
    "Ibukota france adalah paris\n",
    "\n",
    "Ibukota germany adalah berlin\n",
    "\n",
    "Ibukota norway adalah oslo\n",
    "\n",
    "Ibukota indonesia adalah jakarta"
   ]
  }
 ],
 "metadata": {
  "colab": {
   "collapsed_sections": [],
   "name": "Tugas Hari 4.ipynb",
   "provenance": []
  },
  "kernelspec": {
   "display_name": "Python 3",
   "language": "python",
   "name": "python3"
  },
  "language_info": {
   "codemirror_mode": {
    "name": "ipython",
    "version": 3
   },
   "file_extension": ".py",
   "mimetype": "text/x-python",
   "name": "python",
   "nbconvert_exporter": "python",
   "pygments_lexer": "ipython3",
   "version": "3.7.6"
  }
 },
 "nbformat": 4,
 "nbformat_minor": 1
}
