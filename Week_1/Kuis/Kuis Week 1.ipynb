{
 "cells": [
  {
   "cell_type": "markdown",
   "metadata": {},
   "source": [
    "<h2> Soal Import </h2>\n",
    "Cara mengimport module yang tidak benar adalah? #pilih 2 jawaban *"
   ]
  },
  {
   "cell_type": "code",
   "execution_count": 45,
   "metadata": {},
   "outputs": [
    {
     "ename": "SyntaxError",
     "evalue": "invalid syntax (<ipython-input-45-b32340f632a4>, line 5)",
     "output_type": "error",
     "traceback": [
      "\u001b[1;36m  File \u001b[1;32m\"<ipython-input-45-b32340f632a4>\"\u001b[1;36m, line \u001b[1;32m5\u001b[0m\n\u001b[1;33m    from numpy import * as md\u001b[0m\n\u001b[1;37m                         ^\u001b[0m\n\u001b[1;31mSyntaxError\u001b[0m\u001b[1;31m:\u001b[0m invalid syntax\n"
     ]
    }
   ],
   "source": [
    "import numpy as np\n",
    "from numpy import *\n",
    "import numpy\n",
    "#import numpy *\n",
    "#from numpy import * as md"
   ]
  },
  {
   "cell_type": "markdown",
   "metadata": {},
   "source": [
    "<h2> Soal Ouput perbandingan angka </h2>\n",
    "Agar output yang dihasilkan sesuai, maka ... dapat diganti dengan #pilih 2 jawaban *"
   ]
  },
  {
   "cell_type": "code",
   "execution_count": 49,
   "metadata": {},
   "outputs": [
    {
     "data": {
      "text/plain": [
       "False"
      ]
     },
     "execution_count": 49,
     "metadata": {},
     "output_type": "execute_result"
    }
   ],
   "source": [
    "(1976 > 2004) or (2020 > 2222)\n",
    "\n",
    "# ... = > atau ==\n"
   ]
  },
  {
   "cell_type": "markdown",
   "metadata": {},
   "source": [
    "<h2> Soal List </h2>\n",
    "Pada slicing list menggunakan [a : b : c], nilai c dapat berupa? #pilih 3 jawaban *"
   ]
  },
  {
   "cell_type": "code",
   "execution_count": 37,
   "metadata": {},
   "outputs": [
    {
     "data": {
      "text/plain": [
       "[1.32]"
      ]
     },
     "execution_count": 37,
     "metadata": {},
     "output_type": "execute_result"
    }
   ],
   "source": [
    "a = [1.32, 22.1, 2.34]\n",
    "b = ['1', '13b', 'aa1']\n",
    "c = [3, 40, 100]\n",
    "\n",
    "a[0:1:None]"
   ]
  },
  {
   "cell_type": "markdown",
   "metadata": {},
   "source": [
    "<h2> Soal dompet </h2>\n",
    "Output dari code berikut adalah?"
   ]
  },
  {
   "cell_type": "code",
   "execution_count": 30,
   "metadata": {},
   "outputs": [
    {
     "name": "stdout",
     "output_type": "stream",
     "text": [
      "5 10 20 50 1 "
     ]
    }
   ],
   "source": [
    "def ambil(duit, dompetbapak):\n",
    "    dompetsaya = 0\n",
    "    for uang in dompetbapak:\n",
    "        if dompetsaya == duit:\n",
    "            return\n",
    "        dompetsaya += 1\n",
    "        yield uang\n",
    "\n",
    "def satuaja(dompetbapak):\n",
    "    didompetsaya = set()\n",
    "    for uang in dompetbapak:\n",
    "        if uang in didompetsaya:\n",
    "            continue\n",
    "        yield uang\n",
    "        didompetsaya.add(uang)\n",
    "        \n",
    "def laksanakan(lembar):\n",
    "    uang = [5,10,5,20,10,50,10,1,5,2,100]\n",
    "    for duit in ambil(lembar,satuaja(uang)):\n",
    "        print(duit, end = ' ')\n",
    "        \n",
    "laksanakan(5)"
   ]
  },
  {
   "cell_type": "markdown",
   "metadata": {},
   "source": [
    "<h2> Soal Kota </h2>\n",
    "Manakah list comprehension yang dapat di assign ke dalam hasil2 sehingga hasil2 memiliki isi yang sama dengan hasil? *"
   ]
  },
  {
   "cell_type": "code",
   "execution_count": 28,
   "metadata": {},
   "outputs": [
    {
     "ename": "SyntaxError",
     "evalue": "invalid syntax (<ipython-input-28-d19f1c8dc98d>, line 17)",
     "output_type": "error",
     "traceback": [
      "\u001b[1;36m  File \u001b[1;32m\"<ipython-input-28-d19f1c8dc98d>\"\u001b[1;36m, line \u001b[1;32m17\u001b[0m\n\u001b[1;33m    hasil2 = [kota in kota2 if kota[0] == 'B' and len(kota)%2 == 0 and kota[-1] == 'i']\u001b[0m\n\u001b[1;37m                                                                                      ^\u001b[0m\n\u001b[1;31mSyntaxError\u001b[0m\u001b[1;31m:\u001b[0m invalid syntax\n"
     ]
    }
   ],
   "source": [
    "hasil = []\n",
    "\n",
    "for kota in kota2:\n",
    "    if kota[0] == 'B':\n",
    "        if len(kota) % 2 == 0:\n",
    "            if kota[-1] == 'i':\n",
    "                hasil.append(kota)\n",
    "                \n",
    "#hasil2 = [kota for kota in kota2 if kota[0] == 'B', if len(kota)%2 == 0, if kota[-1] == 'i']\n",
    "\n",
    "#hasil2 = [kota in kota2 if kota[0] == 'B' and if len(kota)%2 == 0 and if kota[-1] == 'i' ]\n",
    "\n",
    "#hasil2 = [kota for kota in kota2 if kota[0] == 'B' and len(kota)%2 == 0 and kota[-1] == 'i']\n",
    "\n",
    "#hasil2 = [kota for kota in kota2 if kota[0] == 'B' and if len(kota)%2 == 0 and if kota[-1] == 'i']\n",
    "\n",
    "hasil2 = [kota in kota2 if kota[0] == 'B' and len(kota)%2 == 0 and kota[-1] == 'i']\n",
    "\n"
   ]
  },
  {
   "cell_type": "markdown",
   "metadata": {},
   "source": [
    "<h2> Soal Luas Tanah </h2>\n",
    "Agar output yang dihasilkan sesuai, maka masing-masing <apa> harus diganti dengan? *"
   ]
  },
  {
   "cell_type": "code",
   "execution_count": 23,
   "metadata": {},
   "outputs": [
    {
     "name": "stdout",
     "output_type": "stream",
     "text": [
      "Luas tanah A adalah 300 meter persegi\n",
      "Luas tanah B adalah 300 meter persegi\n",
      "Luas tanah C adalah 500 meter persegi\n"
     ]
    }
   ],
   "source": [
    "luas_tanah ={\n",
    "    'A' : 300,\n",
    "    'B' : 300,\n",
    "    'C' : 500\n",
    "}\n",
    "\n",
    "def luas(obj):\n",
    "    for k,v in obj.items():\n",
    "        print(f'Luas tanah {k} adalah {v} meter persegi')\n",
    "    \n",
    "luas(luas_tanah)"
   ]
  },
  {
   "cell_type": "markdown",
   "metadata": {},
   "source": [
    "<h2> Soal makanan </h2>\n",
    "Diketahui fungsi2 sebagai berikut, berapakah jumlah ayam, dimsum, dan batagor yang ada pada makanan jika kita memanggil yoyoyo sebanyak 1000 kali, ayayay sebanyak 3 kali, yeyeye sebanyak 20 kali, dan ayeaye sebanyak 2 kali? *"
   ]
  },
  {
   "cell_type": "code",
   "execution_count": 17,
   "metadata": {},
   "outputs": [
    {
     "name": "stdout",
     "output_type": "stream",
     "text": [
      "Jumlah ayam =  1019\n",
      "Jumlah baru =  1019\n",
      "Jumlah dimsum =  1019\n",
      "Jumlah terakhir =  1019\n"
     ]
    }
   ],
   "source": [
    "makanan = []\n",
    "\n",
    "def yoyoyo():\n",
    "    makanan.append('ayam')\n",
    "    return makanan\n",
    "\n",
    "def ayayay():\n",
    "    makanan.pop(200)\n",
    "    return makanan\n",
    "\n",
    "def yeyeye():\n",
    "    makanan.extend(['dimsum'])\n",
    "    return makanan\n",
    "\n",
    "def ayeaye():\n",
    "    makanan.insert(10,'batagor')\n",
    "    return makanan\n",
    "\n",
    "\n",
    "total = 1000\n",
    "\n",
    "for i in range(total):\n",
    "    ayam = yoyoyo() \n",
    "    \n",
    "for i in range(3):\n",
    "    balik = ayayay()\n",
    "    \n",
    "for i in range(20):\n",
    "    dimsum = yeyeye()\n",
    "    \n",
    "for i in range(2):\n",
    "    batagor = ayeaye()\n",
    "    \n",
    "\n",
    "print(\"Jumlah ayam = \", len(ayam))\n",
    "print(\"Jumlah baru = \", len(balik))\n",
    "print(\"Jumlah dimsum = \", len(dimsum))\n",
    "print(\"Jumlah terakhir = \", len(batagor))\n",
    "\n"
   ]
  }
 ],
 "metadata": {
  "kernelspec": {
   "display_name": "Python 3",
   "language": "python",
   "name": "python3"
  },
  "language_info": {
   "codemirror_mode": {
    "name": "ipython",
    "version": 3
   },
   "file_extension": ".py",
   "mimetype": "text/x-python",
   "name": "python",
   "nbconvert_exporter": "python",
   "pygments_lexer": "ipython3",
   "version": "3.7.6"
  }
 },
 "nbformat": 4,
 "nbformat_minor": 4
}
