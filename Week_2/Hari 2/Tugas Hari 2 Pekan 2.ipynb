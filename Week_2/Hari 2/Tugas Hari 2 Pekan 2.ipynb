{
 "cells": [
  {
   "cell_type": "code",
   "execution_count": 85,
   "metadata": {
    "colab": {},
    "colab_type": "code",
    "id": "GyakVoXhBGrv",
    "outputId": "39b8ca38-73c2-4f96-a16b-9898575919b9"
   },
   "outputs": [
    {
     "data": {
      "text/html": [
       "<div>\n",
       "<style scoped>\n",
       "    .dataframe tbody tr th:only-of-type {\n",
       "        vertical-align: middle;\n",
       "    }\n",
       "\n",
       "    .dataframe tbody tr th {\n",
       "        vertical-align: top;\n",
       "    }\n",
       "\n",
       "    .dataframe thead th {\n",
       "        text-align: right;\n",
       "    }\n",
       "</style>\n",
       "<table border=\"1\" class=\"dataframe\">\n",
       "  <thead>\n",
       "    <tr style=\"text-align: right;\">\n",
       "      <th></th>\n",
       "      <th>siswa_id</th>\n",
       "      <th>pelajaran</th>\n",
       "      <th>nilai</th>\n",
       "      <th>jenis-kelamin</th>\n",
       "      <th>kelas</th>\n",
       "    </tr>\n",
       "  </thead>\n",
       "  <tbody>\n",
       "    <tr>\n",
       "      <th>0</th>\n",
       "      <td>1</td>\n",
       "      <td>Geologi</td>\n",
       "      <td>7</td>\n",
       "      <td>laki-laki</td>\n",
       "      <td>12C</td>\n",
       "    </tr>\n",
       "    <tr>\n",
       "      <th>1</th>\n",
       "      <td>2</td>\n",
       "      <td>Kimia</td>\n",
       "      <td>71</td>\n",
       "      <td>laki-laki</td>\n",
       "      <td>12D</td>\n",
       "    </tr>\n",
       "    <tr>\n",
       "      <th>2</th>\n",
       "      <td>3</td>\n",
       "      <td>Biologi</td>\n",
       "      <td>49</td>\n",
       "      <td>perempuan</td>\n",
       "      <td>12B</td>\n",
       "    </tr>\n",
       "    <tr>\n",
       "      <th>3</th>\n",
       "      <td>4</td>\n",
       "      <td>Fisika</td>\n",
       "      <td>72</td>\n",
       "      <td>laki-laki</td>\n",
       "      <td>12B</td>\n",
       "    </tr>\n",
       "    <tr>\n",
       "      <th>4</th>\n",
       "      <td>5</td>\n",
       "      <td>Kimia</td>\n",
       "      <td>1</td>\n",
       "      <td>laki-laki</td>\n",
       "      <td>12B</td>\n",
       "    </tr>\n",
       "  </tbody>\n",
       "</table>\n",
       "</div>"
      ],
      "text/plain": [
       "   siswa_id pelajaran  nilai jenis-kelamin kelas\n",
       "0         1   Geologi      7     laki-laki   12C\n",
       "1         2     Kimia     71     laki-laki   12D\n",
       "2         3   Biologi     49     perempuan   12B\n",
       "3         4    Fisika     72     laki-laki   12B\n",
       "4         5     Kimia      1     laki-laki   12B"
      ]
     },
     "execution_count": 85,
     "metadata": {},
     "output_type": "execute_result"
    }
   ],
   "source": [
    "# Persiapan membuat data\n",
    "import pandas as pd\n",
    "import random\n",
    "\n",
    "pelajaran = ['Matematika', 'Fisika', 'Biologi', 'Kimia', 'Geologi', 'Ekonomi']\n",
    "kelas = ['12A', '12B', '12C', '12D']\n",
    "\n",
    "hasil_nilai = {\n",
    "    'siswa_id' : range(1, 21),\n",
    "    'pelajaran' : [random.choice(pelajaran) for i in range(20)],\n",
    "    'nilai' : [random.choice(range(0, 100)) for i in range(20)],\n",
    "    'jenis-kelamin' : [random.choice(['laki-laki', 'perempuan']) for i in range(20)],\n",
    "    'kelas' : [random.choice(kelas) for i in range(20)]\n",
    "}\n",
    "\n",
    "df = pd.DataFrame(hasil_nilai)\n",
    "df.head()"
   ]
  },
  {
   "cell_type": "markdown",
   "metadata": {
    "colab_type": "text",
    "id": "aNoScqypBGr5"
   },
   "source": [
    "<h2>Soal 1: Indexing</h2>\n",
    "\n",
    "1. Lakukan indexing terhadap dataframe untuk mengakses column nilai dan kelas saja\n",
    "2. Lakukan indexing terhadap dataframe untuk mengakses row 5 sampai 10 beserta column pelajaran dan nilai"
   ]
  },
  {
   "cell_type": "code",
   "execution_count": 70,
   "metadata": {
    "colab": {},
    "colab_type": "code",
    "id": "rKmgvnS2BGr6"
   },
   "outputs": [
    {
     "name": "stdout",
     "output_type": "stream",
     "text": [
      "    nilai kelas\n",
      "0      54   12B\n",
      "1      75   12C\n",
      "2       4   12B\n",
      "3      53   12C\n",
      "4      81   12D\n",
      "5      21   12B\n",
      "6      78   12B\n",
      "7      57   12A\n",
      "8      84   12A\n",
      "9      61   12C\n",
      "10     15   12D\n",
      "11     21   12C\n",
      "12     33   12D\n",
      "13     82   12D\n",
      "14     55   12C\n",
      "15     51   12C\n",
      "16      7   12B\n",
      "17     75   12A\n",
      "18     25   12B\n",
      "19     86   12B\n",
      "\n",
      "\n",
      "     pelajaran  nilai\n",
      "5   Matematika     21\n",
      "6       Fisika     78\n",
      "7   Matematika     57\n",
      "8   Matematika     84\n",
      "9      Geologi     61\n",
      "10  Matematika     15\n"
     ]
    }
   ],
   "source": [
    "# code here\n",
    "\n",
    "#indexing terhadap dataframe untuk mengakses column nilai dan kelas saja\n",
    "df_nilai_kelas = df[['nilai', 'kelas']]\n",
    "print(df_nilai_kelas)\n",
    "\n",
    "#indexing terhadap dataframe untuk mengakses row 5 sampai 10 beserta column pelajaran dan nilai\n",
    "df_pelajaran_nilai = df.loc[5:10, ['pelajaran', 'nilai']]\n",
    "print('\\n')\n",
    "print(df_pelajaran_nilai)"
   ]
  },
  {
   "cell_type": "markdown",
   "metadata": {
    "colab_type": "text",
    "id": "F55zUl5GBGr_"
   },
   "source": [
    "<h2>Soal 2: Filter DataFrame Dengan Boolean</h2>\n",
    "\n",
    "1. Tampilkan semua data siswa pada mata pelajaran Ekonomi dan Fisika\n",
    "2. Tampilkan semua data siswa yang mempunyai nilai lebih dari 50 di mata pelajaran Kimia \n",
    "3. Tampilkan semua data yang mempunyai nilai lebih dari 70, berjnis kelamin perempuan dan di kelas 12C"
   ]
  },
  {
   "cell_type": "code",
   "execution_count": 84,
   "metadata": {
    "colab": {},
    "colab_type": "code",
    "id": "eB5oSf_KBGsA"
   },
   "outputs": [
    {
     "name": "stdout",
     "output_type": "stream",
     "text": [
      "    siswa_id pelajaran  nilai jenis-kelamin kelas\n",
      "1          2   Ekonomi     75     laki-laki   12C\n",
      "2          3    Fisika      4     perempuan   12B\n",
      "6          7    Fisika     78     laki-laki   12B\n",
      "12        13    Fisika     33     laki-laki   12D\n",
      "14        15    Fisika     55     perempuan   12C\n",
      "15        16   Ekonomi     51     laki-laki   12C\n",
      "18        19   Ekonomi     25     perempuan   12B\n",
      "\n",
      "\n",
      "\n",
      "   siswa_id pelajaran  nilai jenis-kelamin kelas\n",
      "3         4     Kimia     53     laki-laki   12C\n",
      "4         5     Kimia     81     laki-laki   12D\n",
      "\n",
      "\n",
      "\n",
      "Empty DataFrame\n",
      "Columns: [siswa_id, pelajaran, nilai, jenis-kelamin, kelas]\n",
      "Index: []\n"
     ]
    }
   ],
   "source": [
    "# code here\n",
    "\n",
    "#Tampilkan semua data siswa pada mata pelajaran Ekonomi dan Fisika\n",
    "df_ekonomi = df.pelajaran == \"Ekonomi\"\n",
    "\n",
    "df_fisika = df.pelajaran == \"Fisika\"\n",
    "\n",
    "print(df[(df_ekonomi) | (df_fisika) ])\n",
    "\n",
    "\n",
    "#Tampilkan semua data siswa yang mempunyai nilai lebih dari 50 di mata pelajaran Kimia\n",
    "\n",
    "df_lebih_50 = df.nilai > 50\n",
    "df_kimia = df.pelajaran == 'Kimia'\n",
    "\n",
    "print(\"\\n\\n\")\n",
    "print(df[(df_lebih_50) & (df_kimia) ])\n",
    "\n",
    "#Tampilkan semua data yang mempunyai nilai lebih dari 70, berjnis kelamin perempuan dan di kelas 12C\n",
    "df_lebih_70 = df.nilai > 70\n",
    "df_kelamin = df[\"jenis-kelamin\"] == 'Perempuan'\n",
    "df_kelas = df.kelas == '12C'\n",
    "\n",
    "print(\"\\n\\n\")\n",
    "print(df[(df_lebih_70) & (df_kelamin) & (df_kelas)])"
   ]
  },
  {
   "cell_type": "markdown",
   "metadata": {
    "colab_type": "text",
    "id": "6Od6R3H1BGsE"
   },
   "source": [
    "<h2>Soal 3: Data Transformation</h2>\n",
    "\n",
    "lakukan data transformasi terhadap column 'nilai' dengan fungsi transformasi, berikut rumus dari normalisasi\n",
    "\n",
    "![alt text](https://drive.google.com/uc?id=1wed-EbRSTA0JP1ceDp6lcKBqH2yJ4aa3)"
   ]
  },
  {
   "cell_type": "code",
   "execution_count": 83,
   "metadata": {},
   "outputs": [
    {
     "name": "stdout",
     "output_type": "stream",
     "text": [
      "0     0.609756\n",
      "1     0.865854\n",
      "2     0.000000\n",
      "3     0.597561\n",
      "4     0.939024\n",
      "5     0.207317\n",
      "6     0.902439\n",
      "7     0.646341\n",
      "8     0.975610\n",
      "9     0.695122\n",
      "10    0.134146\n",
      "11    0.207317\n",
      "12    0.353659\n",
      "13    0.951220\n",
      "14    0.621951\n",
      "15    0.573171\n",
      "16    0.036585\n",
      "17    0.865854\n",
      "18    0.256098\n",
      "19    1.000000\n",
      "Name: nilai, dtype: float64\n"
     ]
    }
   ],
   "source": [
    "# code  here\n",
    "\n",
    "df_nilai = df.nilai\n",
    "df_max = df.nilai.max()\n",
    "df_min = df.nilai.min()\n",
    "\n",
    "x_normalized = (df_nilai - df_min) / (df_max - df_min)\n",
    "\n",
    "print(x_normalized)"
   ]
  },
  {
   "cell_type": "code",
   "execution_count": null,
   "metadata": {},
   "outputs": [],
   "source": []
  }
 ],
 "metadata": {
  "colab": {
   "name": "Tugas Hari 2 Pekan 2.ipynb",
   "provenance": []
  },
  "kernelspec": {
   "display_name": "Python 3",
   "language": "python",
   "name": "python3"
  },
  "language_info": {
   "codemirror_mode": {
    "name": "ipython",
    "version": 3
   },
   "file_extension": ".py",
   "mimetype": "text/x-python",
   "name": "python",
   "nbconvert_exporter": "python",
   "pygments_lexer": "ipython3",
   "version": "3.7.6"
  }
 },
 "nbformat": 4,
 "nbformat_minor": 1
}
